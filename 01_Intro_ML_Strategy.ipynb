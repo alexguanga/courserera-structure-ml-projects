{
 "cells": [
  {
   "cell_type": "markdown",
   "metadata": {},
   "source": [
    "# Introduction to ML Strategy"
   ]
  },
  {
   "cell_type": "markdown",
   "metadata": {},
   "source": [
    "## Orthogonalization\n",
    "\n",
    "Orthogalized:\n",
    "- Performing one task specifically for one task. Look at the example below (car). In machine learning, we enjoy orthogonzaliation because we are then able to focus in updating the knobs specifically for one portion of the ML process.\n",
    "\n",
    "Example: \n",
    "- When we drive a car, we have 3 different pieces. We have a steering wheel, acceleration and brake. Thus, we have the three seperate ways to perform the task.\n",
    "- However, if we had a joystick where it controlled 2 times the steering angle + 0.9 times the speed of your car, then it would be more complicated to set the car how we would like it.\n",
    "    - Equation: 0.3 * angle - 0.8 * speed\n",
    "    \n",
    "Chain of assumptions in ML:\n",
    "- Fit training set well on cost function\n",
    "    - Knobs to update: bigger network, better optimization model like: Adam\n",
    "- Fit validate/dev set well on cost function\n",
    "    - Regularization\n",
    "    - Bigger training set\n",
    "- Fit test set well on cost function\n",
    "    - Bigger validate/dev set\n",
    "- Performs well in real world\n",
    "    - Change validate/dev set\n",
    "    - Change cost function"
   ]
  }
 ],
 "metadata": {
  "kernelspec": {
   "display_name": "Python 3",
   "language": "python",
   "name": "python3"
  },
  "language_info": {
   "codemirror_mode": {
    "name": "ipython",
    "version": 3
   },
   "file_extension": ".py",
   "mimetype": "text/x-python",
   "name": "python",
   "nbconvert_exporter": "python",
   "pygments_lexer": "ipython3",
   "version": "3.6.6"
  }
 },
 "nbformat": 4,
 "nbformat_minor": 2
}
