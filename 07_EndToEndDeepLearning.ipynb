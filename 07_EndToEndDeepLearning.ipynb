{
 "cells": [
  {
   "cell_type": "markdown",
   "metadata": {},
   "source": [
    "# End-to-end deep learning"
   ]
  },
  {
   "cell_type": "markdown",
   "metadata": {},
   "source": [
    "## What is end-to-end deep learning?\n",
    "\n",
    "**ONLY ONE NEURAL NETWORK**\n",
    "\n",
    "For this work, we need (x,y) pairs!\n",
    "\n",
    "Speech recognition example:\n",
    "- Instead of going through the entire process of a neural network (what we usually see), we replace it with one entire neural network.\n",
    "- You must have a lot of data for the end-end deep learning to work well.\n",
    "- Bypasses all the intermediate steps\n",
    "\n",
    "For end-end deep learning to work:\n",
    "- It cannot work with a direct mapping for images. Reason being, the person having their face recognized could of been from many different positions.\n",
    "- A better way:\n",
    "     - Have a software that detects a persons face\n",
    "     - Zooms into the face\n",
    "     - It could then recognized the face\n",
    "     - The way it compares the face is that it uses the database of images it already has. It compares it with images in the database.\n",
    " \n",
    "Other examples:\n",
    "- Language Translation\n",
    "- Estimating child's age (using bones)"
   ]
  },
  {
   "cell_type": "markdown",
   "metadata": {},
   "source": [
    "## Whether to use end-to-end deep learning\n",
    "\n",
    "Pros and cons of end-toend deep learning:\n",
    "\n",
    "Pros:\n",
    "- Let the data speak (x->y)\n",
    "- Less hand-designing of components needed\n",
    "\n",
    "Cons:\n",
    "- May need large amount of data\n",
    "- Excludes potentially useful hand-designed componets. When you do not have a lot of potential data, you do not need hand-design components.\n",
    "\n",
    "Applying end-to-end deep learning:\n",
    "- Key question: Do you have sufficient data to learn a function of the complexity needed to map x to y?"
   ]
  }
 ],
 "metadata": {
  "kernelspec": {
   "display_name": "Python 3",
   "language": "python",
   "name": "python3"
  },
  "language_info": {
   "codemirror_mode": {
    "name": "ipython",
    "version": 3
   },
   "file_extension": ".py",
   "mimetype": "text/x-python",
   "name": "python",
   "nbconvert_exporter": "python",
   "pygments_lexer": "ipython3",
   "version": "3.6.6"
  }
 },
 "nbformat": 4,
 "nbformat_minor": 2
}
